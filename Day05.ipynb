{
 "cells": [
  {
   "cell_type": "markdown",
   "id": "ccce677f-28fc-4a6f-a97c-c834c2f6e317",
   "metadata": {},
   "source": [
    "# Numpy Arrays Indexing, Sliciling and Itreation"
   ]
  },
  {
   "cell_type": "code",
   "execution_count": 2,
   "id": "549d3cab-e13d-443e-902a-9613fbf2af79",
   "metadata": {},
   "outputs": [],
   "source": [
    "import numpy as np"
   ]
  },
  {
   "cell_type": "code",
   "execution_count": 6,
   "id": "28aa0878-5145-4fd1-8ada-a945a2c7a426",
   "metadata": {},
   "outputs": [
    {
     "data": {
      "text/plain": [
       "array([[ 0,  1,  2,  3],\n",
       "       [ 4,  5,  6,  7],\n",
       "       [ 8,  9, 10, 11],\n",
       "       [12, 13, 14, 15],\n",
       "       [16, 17, 18, 19],\n",
       "       [20, 21, 22, 23]])"
      ]
     },
     "execution_count": 6,
     "metadata": {},
     "output_type": "execute_result"
    }
   ],
   "source": [
    "arr1 = np.arange(24).reshape(6,4)\n",
    "arr1"
   ]
  },
  {
   "cell_type": "code",
   "execution_count": 11,
   "id": "53e938db-7f4a-4d3a-9592-2830b428839c",
   "metadata": {},
   "outputs": [
    {
     "data": {
      "text/plain": [
       "4"
      ]
     },
     "execution_count": 11,
     "metadata": {},
     "output_type": "execute_result"
    }
   ],
   "source": [
    "arr2 = np.array([1,2,3,4,5])\n",
    "arr2[3]"
   ]
  },
  {
   "cell_type": "code",
   "execution_count": 12,
   "id": "22472ab8-005f-45c3-b5e7-e0d223e1aec1",
   "metadata": {},
   "outputs": [
    {
     "data": {
      "text/plain": [
       "array([3, 4])"
      ]
     },
     "execution_count": 12,
     "metadata": {},
     "output_type": "execute_result"
    }
   ],
   "source": [
    "arr2[2:4]"
   ]
  },
  {
   "cell_type": "markdown",
   "id": "da4926d1-b40e-4019-ade2-47dd2f4ecd17",
   "metadata": {},
   "source": [
    "### in numpy arrays the last digit are excluted"
   ]
  },
  {
   "cell_type": "code",
   "execution_count": 13,
   "id": "c5c4d658-6e84-4b01-a552-564f0b388b2d",
   "metadata": {},
   "outputs": [
    {
     "data": {
      "text/plain": [
       "array([ 8,  9, 10, 11])"
      ]
     },
     "execution_count": 13,
     "metadata": {},
     "output_type": "execute_result"
    }
   ],
   "source": [
    "arr1[2]"
   ]
  },
  {
   "cell_type": "markdown",
   "id": "6b131050-dfd9-4df1-830d-59155d26f90a",
   "metadata": {},
   "source": [
    "### if you pass just a single number to 2D array for searching an index it will return the whole row of that number and what if i need the second column of the given 2D arrray what should I do? Think about it."
   ]
  },
  {
   "cell_type": "code",
   "execution_count": 15,
   "id": "e3c14fa6-e5cc-4bf9-902d-5fb4cd215d10",
   "metadata": {},
   "outputs": [
    {
     "data": {
      "text/plain": [
       "array([[0, 1, 2, 3],\n",
       "       [4, 5, 6, 7]])"
      ]
     },
     "execution_count": 15,
     "metadata": {},
     "output_type": "execute_result"
    }
   ],
   "source": [
    "arr1[:2]"
   ]
  },
  {
   "cell_type": "code",
   "execution_count": 16,
   "id": "9417b09c-01bb-449f-bf7d-95c55aecb97e",
   "metadata": {},
   "outputs": [
    {
     "data": {
      "text/plain": [
       "array([[ 8,  9, 10, 11],\n",
       "       [12, 13, 14, 15],\n",
       "       [16, 17, 18, 19],\n",
       "       [20, 21, 22, 23]])"
      ]
     },
     "execution_count": 16,
     "metadata": {},
     "output_type": "execute_result"
    }
   ],
   "source": [
    "arr1[2:]"
   ]
  },
  {
   "cell_type": "code",
   "execution_count": 17,
   "id": "22094f18-62e1-4ae8-a54a-1eafac9d57da",
   "metadata": {},
   "outputs": [
    {
     "data": {
      "text/plain": [
       "array([ 2,  6, 10, 14, 18, 22])"
      ]
     },
     "execution_count": 17,
     "metadata": {},
     "output_type": "execute_result"
    }
   ],
   "source": [
    "arr1[:,2]"
   ]
  },
  {
   "cell_type": "code",
   "execution_count": 18,
   "id": "1fe813de-a75d-44ff-97de-460c1be098c6",
   "metadata": {},
   "outputs": [
    {
     "data": {
      "text/plain": [
       "array([[ 1,  2],\n",
       "       [ 5,  6],\n",
       "       [ 9, 10],\n",
       "       [13, 14],\n",
       "       [17, 18],\n",
       "       [21, 22]])"
      ]
     },
     "execution_count": 18,
     "metadata": {},
     "output_type": "execute_result"
    }
   ],
   "source": [
    "arr1[:,1:3]"
   ]
  },
  {
   "cell_type": "markdown",
   "id": "a6c4bf5f-ac24-4ea5-9bff-bd30bee13b58",
   "metadata": {},
   "source": [
    "### Like this we can access a column"
   ]
  },
  {
   "cell_type": "code",
   "execution_count": 18,
   "id": "aa9db55e-d896-4ab3-b42a-a6d8853d4fd2",
   "metadata": {},
   "outputs": [
    {
     "data": {
      "text/plain": [
       "array([[ 1,  2],\n",
       "       [ 5,  6],\n",
       "       [ 9, 10],\n",
       "       [13, 14],\n",
       "       [17, 18],\n",
       "       [21, 22]])"
      ]
     },
     "execution_count": 18,
     "metadata": {},
     "output_type": "execute_result"
    }
   ],
   "source": [
    "arr1[:,1:3]"
   ]
  },
  {
   "cell_type": "code",
   "execution_count": 20,
   "id": "a9805d72-b9c7-4dc2-8675-7197392e0e11",
   "metadata": {},
   "outputs": [
    {
     "data": {
      "text/plain": [
       "11"
      ]
     },
     "execution_count": 20,
     "metadata": {},
     "output_type": "execute_result"
    }
   ],
   "source": [
    "arr1[2,3]\n"
   ]
  },
  {
   "cell_type": "markdown",
   "id": "a846b4ba-9f45-49c2-90f3-6ea2cf802c8d",
   "metadata": {},
   "source": [
    "## The Above section was all about indexing"
   ]
  },
  {
   "cell_type": "markdown",
   "id": "526eedc6-bdad-479d-8707-c309c7d955ef",
   "metadata": {},
   "source": [
    "# Slicling Section Start "
   ]
  },
  {
   "cell_type": "markdown",
   "id": "8bfd8b1f-e520-4d77-bff5-cd7e4e9efeb5",
   "metadata": {},
   "source": [
    "## what if you want to access some specific numbers from the given array. So here is the code for example you want to access 9,10,13 and 14 numbers from the array. let's do it"
   ]
  },
  {
   "cell_type": "code",
   "execution_count": 22,
   "id": "fd23492c-7391-47b2-9a1c-60e1173e3445",
   "metadata": {},
   "outputs": [
    {
     "data": {
      "text/plain": [
       "array([[ 9, 10],\n",
       "       [13, 14]])"
      ]
     },
     "execution_count": 22,
     "metadata": {},
     "output_type": "execute_result"
    }
   ],
   "source": [
    "arr1[2:4 , 1:3]"
   ]
  },
  {
   "cell_type": "markdown",
   "id": "e33bc9f9-8862-4069-9468-e9b5d409ce4c",
   "metadata": {},
   "source": [
    "### the first 2 numbers represent the number of row(2:4) and the rest of 2 numbers represent the number of column(1:3)"
   ]
  },
  {
   "cell_type": "code",
   "execution_count": 23,
   "id": "3d7a1243-bff0-444c-bba0-1ef0c47a1b82",
   "metadata": {},
   "outputs": [
    {
     "data": {
      "text/plain": [
       "array([[18, 19],\n",
       "       [22, 23]])"
      ]
     },
     "execution_count": 23,
     "metadata": {},
     "output_type": "execute_result"
    }
   ],
   "source": [
    "arr1[4:6 , 2:4]"
   ]
  },
  {
   "cell_type": "markdown",
   "id": "f8c92fe6-df79-4da2-843b-ec83898c39c1",
   "metadata": {},
   "source": [
    "# Itration Section"
   ]
  },
  {
   "cell_type": "code",
   "execution_count": 24,
   "id": "3677b4e2-3312-4d4a-bff4-44613b9123e0",
   "metadata": {},
   "outputs": [
    {
     "data": {
      "text/plain": [
       "array([[ 0,  1,  2,  3],\n",
       "       [ 4,  5,  6,  7],\n",
       "       [ 8,  9, 10, 11],\n",
       "       [12, 13, 14, 15],\n",
       "       [16, 17, 18, 19],\n",
       "       [20, 21, 22, 23]])"
      ]
     },
     "execution_count": 24,
     "metadata": {},
     "output_type": "execute_result"
    }
   ],
   "source": [
    "arr1"
   ]
  },
  {
   "cell_type": "code",
   "execution_count": 25,
   "id": "7bbd0944-b537-445e-87b6-df86c27f5644",
   "metadata": {},
   "outputs": [
    {
     "name": "stdout",
     "output_type": "stream",
     "text": [
      "[0 1 2 3]\n",
      "[4 5 6 7]\n",
      "[ 8  9 10 11]\n",
      "[12 13 14 15]\n",
      "[16 17 18 19]\n",
      "[20 21 22 23]\n"
     ]
    }
   ],
   "source": [
    "for i in arr1:\n",
    "    print(i)"
   ]
  },
  {
   "cell_type": "code",
   "execution_count": 26,
   "id": "a99eaa68-8d63-4f29-bee3-b9324fc56bad",
   "metadata": {},
   "outputs": [
    {
     "name": "stdout",
     "output_type": "stream",
     "text": [
      "0\n",
      "1\n",
      "2\n",
      "3\n",
      "4\n",
      "5\n",
      "6\n",
      "7\n",
      "8\n",
      "9\n",
      "10\n",
      "11\n",
      "12\n",
      "13\n",
      "14\n",
      "15\n",
      "16\n",
      "17\n",
      "18\n",
      "19\n",
      "20\n",
      "21\n",
      "22\n",
      "23\n"
     ]
    }
   ],
   "source": [
    "for i in np.nditer(arr1):\n",
    "    print(i)"
   ]
  },
  {
   "cell_type": "markdown",
   "id": "c260dd6b-647f-4cbe-9d79-64d8cde53b9b",
   "metadata": {},
   "source": [
    "## this itration is basically use for when you wanna apply a filter on a specific pexil then we use this itrater function."
   ]
  },
  {
   "cell_type": "code",
   "execution_count": null,
   "id": "a2f25b03-555d-41cd-93b4-e74385c02cb5",
   "metadata": {},
   "outputs": [],
   "source": []
  }
 ],
 "metadata": {
  "kernelspec": {
   "display_name": "Python 3 (ipykernel)",
   "language": "python",
   "name": "python3"
  },
  "language_info": {
   "codemirror_mode": {
    "name": "ipython",
    "version": 3
   },
   "file_extension": ".py",
   "mimetype": "text/x-python",
   "name": "python",
   "nbconvert_exporter": "python",
   "pygments_lexer": "ipython3",
   "version": "3.12.7"
  }
 },
 "nbformat": 4,
 "nbformat_minor": 5
}
